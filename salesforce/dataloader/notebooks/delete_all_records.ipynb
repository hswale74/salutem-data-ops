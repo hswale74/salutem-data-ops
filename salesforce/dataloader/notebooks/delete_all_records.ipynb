{
 "cells": [
  {
   "cell_type": "code",
   "execution_count": 70,
   "id": "42c44947-9cd9-4960-aa71-f68a8ef74956",
   "metadata": {},
   "outputs": [],
   "source": [
    "from salesforce_bulk import SalesforceBulk, CsvDictsAdapter\n",
    "from salesforce_bulk.util import IteratorBytesIO\n",
    "from simple_salesforce import Salesforce\n",
    "import pandas as pd\n",
    "import os\n",
    "import json\n",
    "from time import sleep\n",
    "\n",
    "bulk = SalesforceBulk(\n",
    "    username=os.getenv(\"SF_USERNAME\"),\n",
    "    password=os.getenv(\"SF_PASSWORD\"),\n",
    "    security_token=os.getenv(\"SF_TOKEN\")\n",
    ")\n",
    "\n",
    "ss_client = Salesforce(\n",
    "    username=os.getenv(\"SF_USERNAME\"),\n",
    "    password=os.getenv(\"SF_PASSWORD\"),\n",
    "    security_token=os.getenv(\"SF_TOKEN\")\n",
    ")"
   ]
  },
  {
   "cell_type": "code",
   "execution_count": 66,
   "id": "adeb50b6-4a6e-4708-bf68-15eef55183a2",
   "metadata": {},
   "outputs": [],
   "source": [
    "job = bulk.create_query_job(\"Property__c\", contentType='JSON')\n",
    "batch = bulk.query(job, \"select Id from Property__c\")\n",
    "bulk.close_job(job)\n",
    "while not bulk.is_batch_done(batch):\n",
    "    sleep(10)\n",
    "\n",
    "records = []\n",
    "for result in bulk.get_all_results_for_query_batch(batch):\n",
    "    result = json.load(IteratorBytesIO(result))\n",
    "    for row in result:\n",
    "        records.append(row) # dictionary rows"
   ]
  },
  {
   "cell_type": "code",
   "execution_count": 79,
   "id": "9eb2a7ff-55f1-46a4-a772-47e536890aeb",
   "metadata": {},
   "outputs": [
    {
     "data": {
      "text/plain": [
       "10007"
      ]
     },
     "execution_count": 79,
     "metadata": {},
     "output_type": "execute_result"
    }
   ],
   "source": [
    "len(records)"
   ]
  },
  {
   "cell_type": "code",
   "execution_count": 83,
   "id": "1e2aaa69-e085-4bba-abf3-ad56d75b323c",
   "metadata": {},
   "outputs": [],
   "source": [
    "csv_iter = CsvDictsAdapter(iter([{'Id':x['Id'] for x in records[:5000]}]))"
   ]
  },
  {
   "cell_type": "code",
   "execution_count": 87,
   "id": "7a294f5f-3f3c-4745-a26e-1f9e57de108e",
   "metadata": {},
   "outputs": [
    {
     "data": {
      "text/plain": [
       "[{'Id': 'a00Hp000018kStUIAU'}]"
      ]
     },
     "execution_count": 87,
     "metadata": {},
     "output_type": "execute_result"
    }
   ],
   "source": [
    "[{'Id':x['Id'] for x in records[:10]}]"
   ]
  },
  {
   "cell_type": "code",
   "execution_count": 76,
   "id": "5147ee53-cd32-49b2-8ab6-542810ed968f",
   "metadata": {},
   "outputs": [],
   "source": [
    "# # Delete all records using the IDs retrieved.\n",
    "delete_job = bulk.create_delete_job(\"Property__c\", contentType='CSV')\n",
    "\n",
    "batch = bulk.post_batch(delete_job, csv_iter)\n"
   ]
  },
  {
   "cell_type": "code",
   "execution_count": 77,
   "id": "2b76b897-823e-4120-b0f5-31b5d7d7c5d6",
   "metadata": {},
   "outputs": [],
   "source": [
    "bulk.wait_for_batch(delete_job, batch)\n",
    "bulk.close_job(delete_job)"
   ]
  },
  {
   "cell_type": "code",
   "execution_count": 15,
   "id": "d494b6e0-7b4f-4fd5-91e7-341510b6a3f2",
   "metadata": {},
   "outputs": [
    {
     "data": {
      "text/plain": [
       "<generator object SalesforceBulk.get_all_results_for_query_batch at 0xffff5f6317e0>"
      ]
     },
     "execution_count": 15,
     "metadata": {},
     "output_type": "execute_result"
    }
   ],
   "source": [
    "result"
   ]
  },
  {
   "cell_type": "code",
   "execution_count": null,
   "id": "06c1a63e-14c4-4bb5-88b3-9013cc669925",
   "metadata": {},
   "outputs": [],
   "source": []
  },
  {
   "cell_type": "code",
   "execution_count": 78,
   "id": "ac7b4bd3-c2a7-4b7a-859b-2683d52307d3",
   "metadata": {},
   "outputs": [
    {
     "data": {
      "text/plain": [
       "OrderedDict([('totalSize', 1),\n",
       "             ('done', True),\n",
       "             ('records',\n",
       "              [OrderedDict([('attributes',\n",
       "                             OrderedDict([('type', 'AggregateResult')])),\n",
       "                            ('expr0', 10006)])])])"
      ]
     },
     "execution_count": 78,
     "metadata": {},
     "output_type": "execute_result"
    }
   ],
   "source": [
    "ss_client.query(\"Select count(Name) from Property__c\")"
   ]
  },
  {
   "cell_type": "code",
   "execution_count": null,
   "id": "c5e2629e-3a2e-4f47-a924-ac6d20de984f",
   "metadata": {},
   "outputs": [],
   "source": []
  }
 ],
 "metadata": {
  "kernelspec": {
   "display_name": "Python 3 (ipykernel)",
   "language": "python",
   "name": "python3"
  },
  "language_info": {
   "codemirror_mode": {
    "name": "ipython",
    "version": 3
   },
   "file_extension": ".py",
   "mimetype": "text/x-python",
   "name": "python",
   "nbconvert_exporter": "python",
   "pygments_lexer": "ipython3",
   "version": "3.10.11"
  }
 },
 "nbformat": 4,
 "nbformat_minor": 5
}
