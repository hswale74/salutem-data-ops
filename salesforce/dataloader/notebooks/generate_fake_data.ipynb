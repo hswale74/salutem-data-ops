{
 "cells": [
  {
   "cell_type": "code",
   "execution_count": 11,
   "id": "4c789a0a-9c58-432e-bcf1-fc70bdceb3bc",
   "metadata": {},
   "outputs": [],
   "source": [
    "from salesforce_bulk import SalesforceBulk\n",
    "from simple_salesforce import Salesforce\n",
    "from faker import Faker\n",
    "import pandas as pd\n",
    "import random\n",
    "import os\n",
    "\n",
    "ss_client = Salesforce(\n",
    "    username=os.getenv(\"SF_USERNAME\"),\n",
    "    password=os.getenv(\"SF_PASSWORD\"),\n",
    "    security_token=os.getenv(\"SF_TOKEN\")\n",
    ")\n",
    "\n",
    "sb_client = SalesforceBulk(\n",
    "    username=os.getenv(\"SF_USERNAME\"),\n",
    "    password=os.getenv(\"SF_PASSWORD\"),\n",
    "    security_token=os.getenv(\"SF_TOKEN\")\n",
    ")"
   ]
  },
  {
   "cell_type": "code",
   "execution_count": 5,
   "id": "241af019-c3fa-4c80-b2b5-cb7acf19d2d6",
   "metadata": {},
   "outputs": [],
   "source": [
    "property_spec = ss_client.Property__c.describe()"
   ]
  },
  {
   "cell_type": "code",
   "execution_count": 6,
   "id": "9e05c256-845c-4081-a18f-4333af6b04dd",
   "metadata": {},
   "outputs": [
    {
     "data": {
      "text/plain": [
       "OrderedDict([('aggregatable', True),\n",
       "             ('aiPredictionField', False),\n",
       "             ('autoNumber', False),\n",
       "             ('byteLength', 18),\n",
       "             ('calculated', False),\n",
       "             ('calculatedFormula', None),\n",
       "             ('cascadeDelete', False),\n",
       "             ('caseSensitive', False),\n",
       "             ('compoundFieldName', None),\n",
       "             ('controllerName', None),\n",
       "             ('createable', False),\n",
       "             ('custom', False),\n",
       "             ('defaultValue', None),\n",
       "             ('defaultValueFormula', None),\n",
       "             ('defaultedOnCreate', True),\n",
       "             ('dependentPicklist', False),\n",
       "             ('deprecatedAndHidden', False),\n",
       "             ('digits', 0),\n",
       "             ('displayLocationInDecimal', False),\n",
       "             ('encrypted', False),\n",
       "             ('externalId', False),\n",
       "             ('extraTypeInfo', None),\n",
       "             ('filterable', True),\n",
       "             ('filteredLookupInfo', None),\n",
       "             ('formulaTreatNullNumberAsZero', False),\n",
       "             ('groupable', True),\n",
       "             ('highScaleNumber', False),\n",
       "             ('htmlFormatted', False),\n",
       "             ('idLookup', True),\n",
       "             ('inlineHelpText', None),\n",
       "             ('label', 'Record ID'),\n",
       "             ('length', 18),\n",
       "             ('mask', None),\n",
       "             ('maskType', None),\n",
       "             ('name', 'Id'),\n",
       "             ('nameField', False),\n",
       "             ('namePointing', False),\n",
       "             ('nillable', False),\n",
       "             ('permissionable', False),\n",
       "             ('picklistValues', []),\n",
       "             ('polymorphicForeignKey', False),\n",
       "             ('precision', 0),\n",
       "             ('queryByDistance', False),\n",
       "             ('referenceTargetField', None),\n",
       "             ('referenceTo', []),\n",
       "             ('relationshipName', None),\n",
       "             ('relationshipOrder', None),\n",
       "             ('restrictedDelete', False),\n",
       "             ('restrictedPicklist', False),\n",
       "             ('scale', 0),\n",
       "             ('searchPrefilterable', False),\n",
       "             ('soapType', 'tns:ID'),\n",
       "             ('sortable', True),\n",
       "             ('type', 'id'),\n",
       "             ('unique', False),\n",
       "             ('updateable', False),\n",
       "             ('writeRequiresMasterRead', False)])"
      ]
     },
     "execution_count": 6,
     "metadata": {},
     "output_type": "execute_result"
    }
   ],
   "source": [
    "property_spec['fields'][0]"
   ]
  },
  {
   "cell_type": "code",
   "execution_count": 7,
   "id": "a1e18897-fc03-49e1-8307-5512b4755385",
   "metadata": {},
   "outputs": [
    {
     "data": {
      "text/plain": [
       "['Id',\n",
       " 'OwnerId',\n",
       " 'IsDeleted',\n",
       " 'Name',\n",
       " 'CreatedDate',\n",
       " 'CreatedById',\n",
       " 'LastModifiedDate',\n",
       " 'LastModifiedById',\n",
       " 'SystemModstamp',\n",
       " 'LastViewedDate',\n",
       " 'LastReferencedDate',\n",
       " 'Price__c',\n",
       " 'Agent_ID__c',\n",
       " 'Street_Address__c',\n",
       " 'Current_Status__c',\n",
       " 'Unique_Street_Adddress__c']"
      ]
     },
     "execution_count": 7,
     "metadata": {},
     "output_type": "execute_result"
    }
   ],
   "source": [
    "[x['name'] for x in property_spec['fields']]"
   ]
  },
  {
   "cell_type": "code",
   "execution_count": 47,
   "id": "484d22df-13bb-4b42-9190-f19420828724",
   "metadata": {},
   "outputs": [
    {
     "data": {
      "text/plain": [
       "['a05Hp000014GDkCIAW',\n",
       " 'a05Hp000014GIXiIAO',\n",
       " 'a05Hp000014GIXjIAO',\n",
       " 'a05Hp000014GIXnIAO',\n",
       " 'a05Hp000014GIXoIAO',\n",
       " 'a05Hp000014GIXsIAO',\n",
       " 'a05Hp000014GIXtIAO',\n",
       " 'a05Hp000014GIbBIAW']"
      ]
     },
     "execution_count": 47,
     "metadata": {},
     "output_type": "execute_result"
    }
   ],
   "source": [
    "agents = [x['Id'] for x in ss_client.query(\"Select id from Agent__c\")['records']]\n",
    "agents"
   ]
  },
  {
   "cell_type": "code",
   "execution_count": 63,
   "id": "518f71b7-49bf-4419-8ed2-c4c7f55afbca",
   "metadata": {},
   "outputs": [
    {
     "data": {
      "text/plain": [
       "(100000, 4)"
      ]
     },
     "execution_count": 63,
     "metadata": {},
     "output_type": "execute_result"
    }
   ],
   "source": [
    "fake = Faker()\n",
    "\n",
    "def generate_data(rows):\n",
    "    data = []\n",
    "    for _ in range(rows):\n",
    "        row = {'Name': fake.unique.address().replace('\\n', ', '),\n",
    "               'Price__c': random.randint(50000, 1000000),\n",
    "               'Agent_ID__c': random.choice(agents),\n",
    "               'Current_Status__c': random.choice(['Listed', 'Offered', 'Pending Sale', 'Sold'])\n",
    "              }\n",
    "        data.append(row)\n",
    "    return data\n",
    "\n",
    "df = pd.DataFrame(generate_data(100000))\n",
    "df.shape"
   ]
  },
  {
   "cell_type": "code",
   "execution_count": 64,
   "id": "e6f33b8c-56a6-48d6-b21f-89767a55a903",
   "metadata": {},
   "outputs": [
    {
     "data": {
      "text/plain": [
       "Name                 4319 Contreras Park Apt. 112, Mayfurt, GU 03362\n",
       "Price__c                                                      348467\n",
       "Agent_ID__c                                       a05Hp000014GIXiIAO\n",
       "Current_Status__c                                            Offered\n",
       "Name: 0, dtype: object"
      ]
     },
     "execution_count": 64,
     "metadata": {},
     "output_type": "execute_result"
    }
   ],
   "source": [
    "df.iloc[0]"
   ]
  },
  {
   "cell_type": "code",
   "execution_count": 65,
   "id": "210298aa-9e47-4c28-8712-8027272572e3",
   "metadata": {},
   "outputs": [],
   "source": [
    "columns = ['Name','Price__c','Agent_ID__c','Street_Address__c', 'Current_Status__c', 'Unique_Street_Adddress__c']"
   ]
  },
  {
   "cell_type": "code",
   "execution_count": 66,
   "id": "6c3801f3-2bff-43ef-93a8-36e53f42f11c",
   "metadata": {},
   "outputs": [],
   "source": [
    "df['Street_Address__c'] = df['Name']\n",
    "df['Unique_Street_Adddress__c'] = df['Name']"
   ]
  },
  {
   "cell_type": "code",
   "execution_count": 67,
   "id": "3667f596-e6c4-42c5-975e-27bb640a98a3",
   "metadata": {},
   "outputs": [],
   "source": [
    "assert set(df.columns).difference(columns) == set()"
   ]
  },
  {
   "cell_type": "code",
   "execution_count": 68,
   "id": "40217d34-4e36-4ed5-8576-d30d636568b1",
   "metadata": {},
   "outputs": [
    {
     "data": {
      "text/plain": [
       "100000"
      ]
     },
     "execution_count": 68,
     "metadata": {},
     "output_type": "execute_result"
    }
   ],
   "source": [
    "df['Street_Address__c'].nunique()"
   ]
  },
  {
   "cell_type": "code",
   "execution_count": 69,
   "id": "e5daedc7-f497-4dd4-b4ae-1f84a99c06ef",
   "metadata": {},
   "outputs": [],
   "source": [
    "df.to_csv(\"../data/property.csv\")"
   ]
  },
  {
   "cell_type": "code",
   "execution_count": 70,
   "id": "d205a214-edc5-41ba-9b81-5a64e1586ac6",
   "metadata": {},
   "outputs": [
    {
     "data": {
      "text/plain": [
       "'a05Hp000014GIXiIAO'"
      ]
     },
     "execution_count": 70,
     "metadata": {},
     "output_type": "execute_result"
    }
   ],
   "source": [
    "df['Agent_ID__c'][0]"
   ]
  },
  {
   "cell_type": "code",
   "execution_count": null,
   "id": "43adf4af-db84-4339-bbce-795c5e2b714c",
   "metadata": {},
   "outputs": [],
   "source": []
  }
 ],
 "metadata": {
  "kernelspec": {
   "display_name": "Python 3 (ipykernel)",
   "language": "python",
   "name": "python3"
  },
  "language_info": {
   "codemirror_mode": {
    "name": "ipython",
    "version": 3
   },
   "file_extension": ".py",
   "mimetype": "text/x-python",
   "name": "python",
   "nbconvert_exporter": "python",
   "pygments_lexer": "ipython3",
   "version": "3.10.11"
  }
 },
 "nbformat": 4,
 "nbformat_minor": 5
}
