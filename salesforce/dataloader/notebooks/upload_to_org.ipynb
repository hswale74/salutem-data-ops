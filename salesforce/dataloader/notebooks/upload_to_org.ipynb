{
 "cells": [
  {
   "cell_type": "code",
   "execution_count": 3,
   "id": "4c789a0a-9c58-432e-bcf1-fc70bdceb3bc",
   "metadata": {},
   "outputs": [],
   "source": [
    "from salesforce_bulk import SalesforceBulk, CsvDictsAdapter\n",
    "from simple_salesforce import Salesforce\n",
    "import pandas as pd\n",
    "import os\n",
    "\n",
    "ss_client = Salesforce(\n",
    "    username=os.getenv(\"SF_USERNAME\"),\n",
    "    password=os.getenv(\"SF_PASSWORD\"),\n",
    "    security_token=os.getenv(\"SF_TOKEN\")\n",
    ")\n",
    "\n",
    "sb_client = SalesforceBulk(\n",
    "    username=os.getenv(\"SF_USERNAME\"),\n",
    "    password=os.getenv(\"SF_PASSWORD\"),\n",
    "    security_token=os.getenv(\"SF_TOKEN\")\n",
    ")"
   ]
  },
  {
   "cell_type": "markdown",
   "id": "7662cf52-35d2-4d97-96b7-9eb4d5d91bb5",
   "metadata": {},
   "source": [
    "# Validate Schema"
   ]
  },
  {
   "cell_type": "code",
   "execution_count": 4,
   "id": "241af019-c3fa-4c80-b2b5-cb7acf19d2d6",
   "metadata": {},
   "outputs": [],
   "source": [
    "df = pd.read_csv(\"../data/property.csv\").head(100000).drop('Unnamed: 0', axis=1)"
   ]
  },
  {
   "cell_type": "code",
   "execution_count": 5,
   "id": "e1d37a07-7958-4ffd-8fd8-3d31fb2ffe97",
   "metadata": {},
   "outputs": [
    {
     "data": {
      "text/plain": [
       "['Id',\n",
       " 'OwnerId',\n",
       " 'IsDeleted',\n",
       " 'Name',\n",
       " 'CreatedDate',\n",
       " 'CreatedById',\n",
       " 'LastModifiedDate',\n",
       " 'LastModifiedById',\n",
       " 'SystemModstamp',\n",
       " 'LastViewedDate',\n",
       " 'LastReferencedDate',\n",
       " 'Price__c',\n",
       " 'Agent_ID__c',\n",
       " 'Street_Address__c',\n",
       " 'Current_Status__c',\n",
       " 'Unique_Street_Adddress__c']"
      ]
     },
     "execution_count": 5,
     "metadata": {},
     "output_type": "execute_result"
    }
   ],
   "source": [
    "schema = [x['name'] for x in ss_client.Property__c.describe()['fields']]\n",
    "schema"
   ]
  },
  {
   "cell_type": "code",
   "execution_count": 6,
   "id": "f6b41f30-37fb-4279-a79b-984f79a60a50",
   "metadata": {},
   "outputs": [
    {
     "data": {
      "text/plain": [
       "Index(['Name', 'Price__c', 'Agent_ID__c', 'Current_Status__c',\n",
       "       'Street_Address__c', 'Unique_Street_Adddress__c'],\n",
       "      dtype='object')"
      ]
     },
     "execution_count": 6,
     "metadata": {},
     "output_type": "execute_result"
    }
   ],
   "source": [
    "df.columns"
   ]
  },
  {
   "cell_type": "code",
   "execution_count": 7,
   "id": "b6aa2dc7-4d8c-428d-855a-5777f1a4f8da",
   "metadata": {},
   "outputs": [],
   "source": [
    "assert set(df.columns).difference(schema) == set()"
   ]
  },
  {
   "cell_type": "markdown",
   "id": "cca77609-46d3-4b86-b638-c1b81237dc13",
   "metadata": {},
   "source": [
    "# Upload"
   ]
  },
  {
   "cell_type": "code",
   "execution_count": 9,
   "id": "b6e87e3b-5e8d-4d3b-ba94-a82023697b12",
   "metadata": {},
   "outputs": [],
   "source": [
    "def upload(sb_client, object_name, records, chunk_size=10000):\n",
    "    job_id = sb_client.create_insert_job(object_name, contentType='CSV')\n",
    "    batch_ids = []\n",
    "\n",
    "    for index in range(0, len(records), chunk_size):\n",
    "        record_batch = records[index:index+chunk_size]\n",
    "        csv_iter = CsvDictsAdapter(iter(record_batch))\n",
    "        batch_id = sb_client.post_batch(job_id, csv_iter)\n",
    "        sb_client.wait_for_batch(job_id, batch_id)\n",
    "        batch_ids.append(batch_id)\n",
    "\n",
    "\n",
    "    return batch_ids"
   ]
  },
  {
   "cell_type": "code",
   "execution_count": 10,
   "id": "d76ddbd4-0660-4c04-9b58-35e4cd56f892",
   "metadata": {},
   "outputs": [
    {
     "ename": "KeyboardInterrupt",
     "evalue": "",
     "output_type": "error",
     "traceback": [
      "\u001b[0;31m---------------------------------------------------------------------------\u001b[0m",
      "\u001b[0;31mKeyboardInterrupt\u001b[0m                         Traceback (most recent call last)",
      "Cell \u001b[0;32mIn[10], line 3\u001b[0m\n\u001b[1;32m      1\u001b[0m records \u001b[38;5;241m=\u001b[39m df\u001b[38;5;241m.\u001b[39mto_dict(\u001b[38;5;124m'\u001b[39m\u001b[38;5;124mrecords\u001b[39m\u001b[38;5;124m'\u001b[39m)\n\u001b[0;32m----> 3\u001b[0m batch_ids \u001b[38;5;241m=\u001b[39m \u001b[43mupload\u001b[49m\u001b[43m(\u001b[49m\u001b[43msb_client\u001b[49m\u001b[43m,\u001b[49m\u001b[43m \u001b[49m\u001b[38;5;124;43m'\u001b[39;49m\u001b[38;5;124;43mProperty__c\u001b[39;49m\u001b[38;5;124;43m'\u001b[39;49m\u001b[43m,\u001b[49m\u001b[43m \u001b[49m\u001b[43mrecords\u001b[49m\u001b[43m)\u001b[49m\n",
      "Cell \u001b[0;32mIn[9], line 9\u001b[0m, in \u001b[0;36mupload\u001b[0;34m(sb_client, object_name, records, chunk_size)\u001b[0m\n\u001b[1;32m      7\u001b[0m     csv_iter \u001b[38;5;241m=\u001b[39m CsvDictsAdapter(\u001b[38;5;28miter\u001b[39m(record_batch))\n\u001b[1;32m      8\u001b[0m     batch_id \u001b[38;5;241m=\u001b[39m sb_client\u001b[38;5;241m.\u001b[39mpost_batch(job_id, csv_iter)\n\u001b[0;32m----> 9\u001b[0m     \u001b[43msb_client\u001b[49m\u001b[38;5;241;43m.\u001b[39;49m\u001b[43mwait_for_batch\u001b[49m\u001b[43m(\u001b[49m\u001b[43mjob_id\u001b[49m\u001b[43m,\u001b[49m\u001b[43m \u001b[49m\u001b[43mbatch_id\u001b[49m\u001b[43m)\u001b[49m\n\u001b[1;32m     10\u001b[0m     batch_ids\u001b[38;5;241m.\u001b[39mappend(batch_id)\n\u001b[1;32m     13\u001b[0m \u001b[38;5;28;01mreturn\u001b[39;00m batch_ids\n",
      "File \u001b[0;32m/opt/conda/lib/python3.10/site-packages/salesforce_bulk/salesforce_bulk.py:444\u001b[0m, in \u001b[0;36mSalesforceBulk.wait_for_batch\u001b[0;34m(self, job_id, batch_id, timeout, sleep_interval)\u001b[0m\n\u001b[1;32m    442\u001b[0m waited \u001b[38;5;241m=\u001b[39m \u001b[38;5;241m0\u001b[39m\n\u001b[1;32m    443\u001b[0m \u001b[38;5;28;01mwhile\u001b[39;00m \u001b[38;5;129;01mnot\u001b[39;00m \u001b[38;5;28mself\u001b[39m\u001b[38;5;241m.\u001b[39mis_batch_done(batch_id, job_id) \u001b[38;5;129;01mand\u001b[39;00m waited \u001b[38;5;241m<\u001b[39m timeout:\n\u001b[0;32m--> 444\u001b[0m     \u001b[43mtime\u001b[49m\u001b[38;5;241;43m.\u001b[39;49m\u001b[43msleep\u001b[49m\u001b[43m(\u001b[49m\u001b[43msleep_interval\u001b[49m\u001b[43m)\u001b[49m\n\u001b[1;32m    445\u001b[0m     waited \u001b[38;5;241m+\u001b[39m\u001b[38;5;241m=\u001b[39m sleep_interval\n",
      "\u001b[0;31mKeyboardInterrupt\u001b[0m: "
     ]
    }
   ],
   "source": [
    "records = df.to_dict('records')\n",
    "\n",
    "batch_ids = upload(sb_client, 'Property__c', records)"
   ]
  },
  {
   "cell_type": "code",
   "execution_count": 25,
   "id": "8274ce40-cdbc-447e-a3e1-58431b8a2c8a",
   "metadata": {},
   "outputs": [],
   "source": [
    "records = df.to_dict('records')\n",
    "csv_iter = CsvDictsAdapter(iter(records))"
   ]
  },
  {
   "cell_type": "code",
   "execution_count": 18,
   "id": "b7e2bc33-428d-4a88-ab4d-fe534bfe238b",
   "metadata": {},
   "outputs": [
    {
     "data": {
      "text/plain": [
       "b'\"Name\",\"Price__c\",\"Agent_ID__c\",\"Current_Status__c\",\"Street_Address__c\",\"Unique_Street_Adddress__c\"\\r\\n\"34537 Jason Drive Suite 281, North Ashleyborough, NE 57689\",678335,\"a05Hp000014GIXoIAO\",\"Listed\",\"34537 Jason Drive Suite 281, North Ashleyborough, NE 57689\",\"34537 Jason Drive Suite 281, North Ashleyborough, NE 57689\"\\r\\n'"
      ]
     },
     "execution_count": 18,
     "metadata": {},
     "output_type": "execute_result"
    }
   ],
   "source": [
    "csv_iter.next()"
   ]
  },
  {
   "cell_type": "code",
   "execution_count": null,
   "id": "518269af-a2e8-4501-93a6-6b30819b2922",
   "metadata": {},
   "outputs": [],
   "source": []
  },
  {
   "cell_type": "code",
   "execution_count": 26,
   "id": "e45a48d0-709e-4e57-8771-abb21d9f4c27",
   "metadata": {},
   "outputs": [],
   "source": [
    "job = sb_client.create_insert_job(\"Property__c\", contentType='CSV')"
   ]
  },
  {
   "cell_type": "code",
   "execution_count": 14,
   "id": "434967fe-77e4-49fd-9cc7-181bc9e88fd0",
   "metadata": {},
   "outputs": [
    {
     "ename": "BulkBatchFailed",
     "evalue": "Batch 751Hp00001fx5hhIAA of job 750Hp00001CR1pFIAT failed: InvalidBatch : Field name not found : 58794 Sarah Point, Moorebury, ND 30749",
     "output_type": "error",
     "traceback": [
      "\u001b[0;31m---------------------------------------------------------------------------\u001b[0m",
      "\u001b[0;31mBulkBatchFailed\u001b[0m                           Traceback (most recent call last)",
      "Cell \u001b[0;32mIn[14], line 2\u001b[0m\n\u001b[1;32m      1\u001b[0m \u001b[38;5;66;03m# batch = sb_client.post_batch(job, csv_iter)\u001b[39;00m\n\u001b[0;32m----> 2\u001b[0m \u001b[43msb_client\u001b[49m\u001b[38;5;241;43m.\u001b[39;49m\u001b[43mwait_for_batch\u001b[49m\u001b[43m(\u001b[49m\u001b[43mjob\u001b[49m\u001b[43m,\u001b[49m\u001b[43m \u001b[49m\u001b[43mbatch\u001b[49m\u001b[43m)\u001b[49m\n",
      "File \u001b[0;32m/opt/conda/lib/python3.10/site-packages/salesforce_bulk/salesforce_bulk.py:443\u001b[0m, in \u001b[0;36mSalesforceBulk.wait_for_batch\u001b[0;34m(self, job_id, batch_id, timeout, sleep_interval)\u001b[0m\n\u001b[1;32m    440\u001b[0m \u001b[38;5;28;01mdef\u001b[39;00m \u001b[38;5;21mwait_for_batch\u001b[39m(\u001b[38;5;28mself\u001b[39m, job_id, batch_id, timeout\u001b[38;5;241m=\u001b[39m\u001b[38;5;241m60\u001b[39m \u001b[38;5;241m*\u001b[39m \u001b[38;5;241m10\u001b[39m,\n\u001b[1;32m    441\u001b[0m                    sleep_interval\u001b[38;5;241m=\u001b[39m\u001b[38;5;241m10\u001b[39m):\n\u001b[1;32m    442\u001b[0m     waited \u001b[38;5;241m=\u001b[39m \u001b[38;5;241m0\u001b[39m\n\u001b[0;32m--> 443\u001b[0m     \u001b[38;5;28;01mwhile\u001b[39;00m \u001b[38;5;129;01mnot\u001b[39;00m \u001b[38;5;28;43mself\u001b[39;49m\u001b[38;5;241;43m.\u001b[39;49m\u001b[43mis_batch_done\u001b[49m\u001b[43m(\u001b[49m\u001b[43mbatch_id\u001b[49m\u001b[43m,\u001b[49m\u001b[43m \u001b[49m\u001b[43mjob_id\u001b[49m\u001b[43m)\u001b[49m \u001b[38;5;129;01mand\u001b[39;00m waited \u001b[38;5;241m<\u001b[39m timeout:\n\u001b[1;32m    444\u001b[0m         time\u001b[38;5;241m.\u001b[39msleep(sleep_interval)\n\u001b[1;32m    445\u001b[0m         waited \u001b[38;5;241m+\u001b[39m\u001b[38;5;241m=\u001b[39m sleep_interval\n",
      "File \u001b[0;32m/opt/conda/lib/python3.10/site-packages/salesforce_bulk/salesforce_bulk.py:435\u001b[0m, in \u001b[0;36mSalesforceBulk.is_batch_done\u001b[0;34m(self, batch_id, job_id)\u001b[0m\n\u001b[1;32m    433\u001b[0m \u001b[38;5;28;01mif\u001b[39;00m batch_state \u001b[38;5;129;01min\u001b[39;00m bulk_states\u001b[38;5;241m.\u001b[39mERROR_STATES:\n\u001b[1;32m    434\u001b[0m     status \u001b[38;5;241m=\u001b[39m \u001b[38;5;28mself\u001b[39m\u001b[38;5;241m.\u001b[39mbatch_status(batch_id, job_id)\n\u001b[0;32m--> 435\u001b[0m     \u001b[38;5;28;01mraise\u001b[39;00m BulkBatchFailed(job_id, batch_id, status\u001b[38;5;241m.\u001b[39mget(\u001b[38;5;124m'\u001b[39m\u001b[38;5;124mstateMessage\u001b[39m\u001b[38;5;124m'\u001b[39m), batch_state)\n\u001b[1;32m    436\u001b[0m \u001b[38;5;28;01mreturn\u001b[39;00m batch_state \u001b[38;5;241m==\u001b[39m bulk_states\u001b[38;5;241m.\u001b[39mCOMPLETED\n",
      "\u001b[0;31mBulkBatchFailed\u001b[0m: Batch 751Hp00001fx5hhIAA of job 750Hp00001CR1pFIAT failed: InvalidBatch : Field name not found : 58794 Sarah Point, Moorebury, ND 30749"
     ]
    }
   ],
   "source": [
    "batch = sb_client.post_batch(job, csv_iter)\n",
    "sb_client.wait_for_batch(job, batch)"
   ]
  },
  {
   "cell_type": "code",
   "execution_count": null,
   "id": "49e30a42-c887-42aa-a687-9b38354f6807",
   "metadata": {},
   "outputs": [],
   "source": [
    "# sb_client.close_job(job)"
   ]
  },
  {
   "cell_type": "code",
   "execution_count": null,
   "id": "a8f40262-34c5-4cdd-9ed3-d151f4b2846e",
   "metadata": {},
   "outputs": [],
   "source": [
    "sb_client.is_batch_done(batch)"
   ]
  },
  {
   "cell_type": "code",
   "execution_count": 12,
   "id": "bc5aada0-ebe6-48e6-9beb-ff38e23517ce",
   "metadata": {},
   "outputs": [
    {
     "ename": "NameError",
     "evalue": "name 'batch' is not defined",
     "output_type": "error",
     "traceback": [
      "\u001b[0;31m---------------------------------------------------------------------------\u001b[0m",
      "\u001b[0;31mNameError\u001b[0m                                 Traceback (most recent call last)",
      "Cell \u001b[0;32mIn[12], line 1\u001b[0m\n\u001b[0;32m----> 1\u001b[0m sb_client\u001b[38;5;241m.\u001b[39mget_batch_results(\u001b[43mbatch\u001b[49m)\n",
      "\u001b[0;31mNameError\u001b[0m: name 'batch' is not defined"
     ]
    }
   ],
   "source": [
    "sb_client.get_batch_results(batch)"
   ]
  },
  {
   "cell_type": "code",
   "execution_count": null,
   "id": "41ca470b-f097-44cb-a498-9f1f64e3c279",
   "metadata": {},
   "outputs": [],
   "source": []
  },
  {
   "cell_type": "markdown",
   "id": "65f0c2d1-dfa9-4d44-a86c-f7e10a9b9995",
   "metadata": {},
   "source": [
    "# Check counts"
   ]
  },
  {
   "cell_type": "code",
   "execution_count": 19,
   "id": "826c3e6e-d4c3-480a-8f97-232a82698c77",
   "metadata": {},
   "outputs": [
    {
     "data": {
      "text/plain": [
       "OrderedDict([('totalSize', 1),\n",
       "             ('done', True),\n",
       "             ('records',\n",
       "              [OrderedDict([('attributes',\n",
       "                             OrderedDict([('type', 'AggregateResult')])),\n",
       "                            ('expr0', 10007)])])])"
      ]
     },
     "execution_count": 19,
     "metadata": {},
     "output_type": "execute_result"
    }
   ],
   "source": [
    "ss_client.query(\"Select count(Name) from Property__c\")"
   ]
  },
  {
   "cell_type": "code",
   "execution_count": null,
   "id": "27c5507d-970a-482a-8189-a6f87ac7a104",
   "metadata": {},
   "outputs": [],
   "source": []
  }
 ],
 "metadata": {
  "kernelspec": {
   "display_name": "Python 3 (ipykernel)",
   "language": "python",
   "name": "python3"
  },
  "language_info": {
   "codemirror_mode": {
    "name": "ipython",
    "version": 3
   },
   "file_extension": ".py",
   "mimetype": "text/x-python",
   "name": "python",
   "nbconvert_exporter": "python",
   "pygments_lexer": "ipython3",
   "version": "3.10.11"
  }
 },
 "nbformat": 4,
 "nbformat_minor": 5
}
