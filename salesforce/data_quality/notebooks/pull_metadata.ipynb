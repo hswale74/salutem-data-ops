{
 "cells": [
  {
   "cell_type": "code",
   "execution_count": 2,
   "id": "7f9dfebf-5eee-4649-b1c1-798a482be7db",
   "metadata": {},
   "outputs": [
    {
     "name": "stderr",
     "output_type": "stream",
     "text": [
      "DEBUG:urllib3.connectionpool:Starting new HTTPS connection (1): login.salesforce.com:443\n",
      "DEBUG:urllib3.connectionpool:https://login.salesforce.com:443 \"POST /services/Soap/u/57.0 HTTP/1.1\" 200 850\n",
      "DEBUG:urllib3.connectionpool:Starting new HTTPS connection (1): creative-moose-lqi7kc-dev-ed.trailblaze.my.salesforce.com:443\n",
      "DEBUG:urllib3.connectionpool:https://creative-moose-lqi7kc-dev-ed.trailblaze.my.salesforce.com:443 \"GET /services/data/v57.0/sobjects HTTP/1.1\" 200 None\n"
     ]
    }
   ],
   "source": [
    "from simple_salesforce import Salesforce\n",
    "from functools import lru_cache\n",
    "\n",
    "import logging\n",
    "import os\n",
    "import pandas as pd\n",
    "\n",
    "logging.basicConfig(level=logging.DEBUG)\n",
    "\n",
    "\n",
    "sf_client = Salesforce(\n",
    "    username=os.getenv(\"SF_USERNAME\"),\n",
    "    password=os.getenv(\"SF_PASSWORD\"),\n",
    "    security_token=os.getenv(\"SF_TOKEN\")\n",
    ")\n",
    "\n",
    "resp = sf_client.describe()"
   ]
  },
  {
   "cell_type": "code",
   "execution_count": 7,
   "id": "1b7257fe-a03f-4b89-a8ef-e98e32190e7c",
   "metadata": {},
   "outputs": [],
   "source": [
    "@lru_cache(maxsize=100)\n",
    "def get_object_metadata(sf_client, object_name):\n",
    "    return getattr(sf_client, object_name).describe()"
   ]
  },
  {
   "cell_type": "code",
   "execution_count": 8,
   "id": "af8dd917-245d-45aa-9bb8-a7195687c4d5",
   "metadata": {},
   "outputs": [
    {
     "name": "stderr",
     "output_type": "stream",
     "text": [
      "DEBUG:urllib3.connectionpool:https://creative-moose-lqi7kc-dev-ed.trailblaze.my.salesforce.com:443 \"GET /services/data/v57.0/sobjects/Property__c/describe HTTP/1.1\" 200 None\n"
     ]
    }
   ],
   "source": [
    "resp = get_object_metadata(sf_client, 'Property__c')"
   ]
  },
  {
   "cell_type": "code",
   "execution_count": 9,
   "id": "8af00dbd-1131-471f-8a80-1c2c95dfddce",
   "metadata": {},
   "outputs": [
    {
     "data": {
      "text/plain": [
       "odict_keys(['actionOverrides', 'activateable', 'associateEntityType', 'associateParentEntity', 'childRelationships', 'compactLayoutable', 'createable', 'custom', 'customSetting', 'deepCloneable', 'defaultImplementation', 'deletable', 'deprecatedAndHidden', 'extendedBy', 'extendsInterfaces', 'feedEnabled', 'fields', 'hasSubtypes', 'implementedBy', 'implementsInterfaces', 'isInterface', 'isSubtype', 'keyPrefix', 'label', 'labelPlural', 'layoutable', 'listviewable', 'lookupLayoutable', 'mergeable', 'mruEnabled', 'name', 'namedLayoutInfos', 'networkScopeFieldName', 'queryable', 'recordTypeInfos', 'replicateable', 'retrieveable', 'searchLayoutable', 'searchable', 'sobjectDescribeOption', 'supportedScopes', 'triggerable', 'undeletable', 'updateable', 'urls'])"
      ]
     },
     "execution_count": 9,
     "metadata": {},
     "output_type": "execute_result"
    }
   ],
   "source": [
    "resp.keys()"
   ]
  },
  {
   "cell_type": "code",
   "execution_count": 10,
   "id": "aa7f55c1-1cca-4a03-95c9-649c7321b783",
   "metadata": {},
   "outputs": [],
   "source": [
    "resp2 = get_object_metadata(sf_client, 'Property__c')"
   ]
  },
  {
   "cell_type": "code",
   "execution_count": 6,
   "id": "39cbcab2-71bd-49dc-8367-d75847c549ea",
   "metadata": {},
   "outputs": [
    {
     "data": {
      "text/plain": [
       "odict_keys(['encoding', 'maxBatchSize', 'sobjects'])"
      ]
     },
     "execution_count": 6,
     "metadata": {},
     "output_type": "execute_result"
    }
   ],
   "source": [
    "resp.keys()"
   ]
  },
  {
   "cell_type": "code",
   "execution_count": 10,
   "id": "22807f70-2e30-48dd-a6cd-4746b2fdcdbe",
   "metadata": {},
   "outputs": [],
   "source": [
    "sobjects = resp['sobjects']"
   ]
  },
  {
   "cell_type": "code",
   "execution_count": 11,
   "id": "4e4288bd-7fe2-425d-beb3-a7ec1c2446ac",
   "metadata": {},
   "outputs": [
    {
     "data": {
      "text/plain": [
       "28"
      ]
     },
     "execution_count": 11,
     "metadata": {},
     "output_type": "execute_result"
    }
   ],
   "source": [
    "len(sobjects[0].keys())"
   ]
  },
  {
   "cell_type": "code",
   "execution_count": 12,
   "id": "5020d413-42a9-4856-935c-6de12c414d1f",
   "metadata": {},
   "outputs": [],
   "source": [
    "dict_ = {}\n",
    "for item in sobjects:\n",
    "    if dict_.get(len(item)) is None:\n",
    "        dict_[len(item)] = 1\n",
    "    else:\n",
    "        dict_[len(item)] += 1"
   ]
  },
  {
   "cell_type": "code",
   "execution_count": 13,
   "id": "82811040-fae3-427a-b1ed-e4b846f02294",
   "metadata": {},
   "outputs": [
    {
     "data": {
      "text/plain": [
       "{28: 891}"
      ]
     },
     "execution_count": 13,
     "metadata": {},
     "output_type": "execute_result"
    }
   ],
   "source": [
    "dict_"
   ]
  },
  {
   "cell_type": "code",
   "execution_count": 14,
   "id": "d860add6-3c47-464d-939e-23ad1c8dd08e",
   "metadata": {},
   "outputs": [],
   "source": [
    "df = pd.DataFrame.from_records(sobjects)"
   ]
  },
  {
   "cell_type": "code",
   "execution_count": 15,
   "id": "c39e4ba3-2e90-41dc-844c-7743731b39ba",
   "metadata": {},
   "outputs": [
    {
     "data": {
      "text/plain": [
       "activateable               bool\n",
       "associateEntityType      object\n",
       "associateParentEntity    object\n",
       "createable                 bool\n",
       "custom                     bool\n",
       "customSetting              bool\n",
       "deepCloneable              bool\n",
       "deletable                  bool\n",
       "deprecatedAndHidden        bool\n",
       "feedEnabled                bool\n",
       "hasSubtypes                bool\n",
       "isInterface                bool\n",
       "isSubtype                  bool\n",
       "keyPrefix                object\n",
       "label                    object\n",
       "labelPlural              object\n",
       "layoutable                 bool\n",
       "mergeable                  bool\n",
       "mruEnabled                 bool\n",
       "name                     object\n",
       "queryable                  bool\n",
       "replicateable              bool\n",
       "retrieveable               bool\n",
       "searchable                 bool\n",
       "triggerable                bool\n",
       "undeletable                bool\n",
       "updateable                 bool\n",
       "urls                     object\n",
       "dtype: object"
      ]
     },
     "execution_count": 15,
     "metadata": {},
     "output_type": "execute_result"
    }
   ],
   "source": [
    "df[df.custom].dtypes"
   ]
  },
  {
   "cell_type": "code",
   "execution_count": 16,
   "id": "34fdb55e-9fee-43cc-a2bc-1b1ffb524ce7",
   "metadata": {},
   "outputs": [],
   "source": [
    "df.to_csv(\"../data/sobject_property_inventory.csv\")"
   ]
  },
  {
   "cell_type": "code",
   "execution_count": 31,
   "id": "91ae72c9-6175-4634-baed-c3be9e63e96a",
   "metadata": {},
   "outputs": [],
   "source": [
    "property = getattr(sf_client, 'Property__c').describe()"
   ]
  },
  {
   "cell_type": "code",
   "execution_count": 32,
   "id": "e4212f78-a3aa-42b2-8481-916d992afc1d",
   "metadata": {},
   "outputs": [],
   "source": [
    "property_df = pd.DataFrame.from_records(property['fields'])\n",
    "property_df.to_csv(\"../data/property__c_field_inventory.csv\")"
   ]
  },
  {
   "cell_type": "code",
   "execution_count": 33,
   "id": "3c2dee66-ff63-4ffe-955c-b783d129ebdb",
   "metadata": {},
   "outputs": [
    {
     "data": {
      "text/plain": [
       "aggregatable                      bool\n",
       "aiPredictionField                 bool\n",
       "autoNumber                        bool\n",
       "byteLength                       int64\n",
       "calculated                        bool\n",
       "calculatedFormula               object\n",
       "cascadeDelete                     bool\n",
       "caseSensitive                     bool\n",
       "compoundFieldName               object\n",
       "controllerName                  object\n",
       "createable                        bool\n",
       "custom                            bool\n",
       "defaultValue                    object\n",
       "defaultValueFormula             object\n",
       "defaultedOnCreate                 bool\n",
       "dependentPicklist                 bool\n",
       "deprecatedAndHidden               bool\n",
       "digits                           int64\n",
       "displayLocationInDecimal          bool\n",
       "encrypted                         bool\n",
       "externalId                        bool\n",
       "extraTypeInfo                   object\n",
       "filterable                        bool\n",
       "filteredLookupInfo              object\n",
       "formulaTreatNullNumberAsZero      bool\n",
       "groupable                         bool\n",
       "highScaleNumber                   bool\n",
       "htmlFormatted                     bool\n",
       "idLookup                          bool\n",
       "inlineHelpText                  object\n",
       "label                           object\n",
       "length                           int64\n",
       "mask                            object\n",
       "maskType                        object\n",
       "name                            object\n",
       "nameField                         bool\n",
       "namePointing                      bool\n",
       "nillable                          bool\n",
       "permissionable                    bool\n",
       "picklistValues                  object\n",
       "polymorphicForeignKey             bool\n",
       "precision                        int64\n",
       "queryByDistance                   bool\n",
       "referenceTargetField            object\n",
       "referenceTo                     object\n",
       "relationshipName                object\n",
       "relationshipOrder               object\n",
       "restrictedDelete                  bool\n",
       "restrictedPicklist                bool\n",
       "scale                            int64\n",
       "searchPrefilterable               bool\n",
       "soapType                        object\n",
       "sortable                          bool\n",
       "type                            object\n",
       "unique                            bool\n",
       "updateable                        bool\n",
       "writeRequiresMasterRead           bool\n",
       "dtype: object"
      ]
     },
     "execution_count": 33,
     "metadata": {},
     "output_type": "execute_result"
    }
   ],
   "source": [
    "property_df[property_df.type == 'picklist'].dtypes"
   ]
  },
  {
   "cell_type": "code",
   "execution_count": 36,
   "id": "afb3fea3-b7a9-4639-af57-e95d65ec2f64",
   "metadata": {},
   "outputs": [
    {
     "data": {
      "text/plain": [
       "array(['Id', 'OwnerId', 'IsDeleted', 'Name', 'CreatedDate', 'CreatedById',\n",
       "       'LastModifiedDate', 'LastModifiedById', 'SystemModstamp',\n",
       "       'LastViewedDate', 'LastReferencedDate', 'Price__c', 'Agent_ID__c',\n",
       "       'Street_Address__c', 'Current_Status__c',\n",
       "       'Unique_Street_Adddress__c'], dtype=object)"
      ]
     },
     "execution_count": 36,
     "metadata": {},
     "output_type": "execute_result"
    }
   ],
   "source": [
    "property_df.name.unique()"
   ]
  },
  {
   "cell_type": "code",
   "execution_count": 39,
   "id": "4904f44d-4465-4526-b14b-c55bb1cde78f",
   "metadata": {},
   "outputs": [
    {
     "data": {
      "text/html": [
       "<div>\n",
       "<style scoped>\n",
       "    .dataframe tbody tr th:only-of-type {\n",
       "        vertical-align: middle;\n",
       "    }\n",
       "\n",
       "    .dataframe tbody tr th {\n",
       "        vertical-align: top;\n",
       "    }\n",
       "\n",
       "    .dataframe thead th {\n",
       "        text-align: right;\n",
       "    }\n",
       "</style>\n",
       "<table border=\"1\" class=\"dataframe\">\n",
       "  <thead>\n",
       "    <tr style=\"text-align: right;\">\n",
       "      <th></th>\n",
       "      <th>15</th>\n",
       "    </tr>\n",
       "  </thead>\n",
       "  <tbody>\n",
       "    <tr>\n",
       "      <th>aggregatable</th>\n",
       "      <td>True</td>\n",
       "    </tr>\n",
       "    <tr>\n",
       "      <th>aiPredictionField</th>\n",
       "      <td>False</td>\n",
       "    </tr>\n",
       "    <tr>\n",
       "      <th>autoNumber</th>\n",
       "      <td>False</td>\n",
       "    </tr>\n",
       "    <tr>\n",
       "      <th>byteLength</th>\n",
       "      <td>300</td>\n",
       "    </tr>\n",
       "    <tr>\n",
       "      <th>calculated</th>\n",
       "      <td>False</td>\n",
       "    </tr>\n",
       "    <tr>\n",
       "      <th>calculatedFormula</th>\n",
       "      <td>None</td>\n",
       "    </tr>\n",
       "    <tr>\n",
       "      <th>cascadeDelete</th>\n",
       "      <td>False</td>\n",
       "    </tr>\n",
       "    <tr>\n",
       "      <th>caseSensitive</th>\n",
       "      <td>False</td>\n",
       "    </tr>\n",
       "    <tr>\n",
       "      <th>compoundFieldName</th>\n",
       "      <td>None</td>\n",
       "    </tr>\n",
       "    <tr>\n",
       "      <th>controllerName</th>\n",
       "      <td>None</td>\n",
       "    </tr>\n",
       "    <tr>\n",
       "      <th>createable</th>\n",
       "      <td>True</td>\n",
       "    </tr>\n",
       "    <tr>\n",
       "      <th>custom</th>\n",
       "      <td>True</td>\n",
       "    </tr>\n",
       "    <tr>\n",
       "      <th>defaultValue</th>\n",
       "      <td>None</td>\n",
       "    </tr>\n",
       "    <tr>\n",
       "      <th>defaultValueFormula</th>\n",
       "      <td>None</td>\n",
       "    </tr>\n",
       "    <tr>\n",
       "      <th>defaultedOnCreate</th>\n",
       "      <td>False</td>\n",
       "    </tr>\n",
       "    <tr>\n",
       "      <th>dependentPicklist</th>\n",
       "      <td>False</td>\n",
       "    </tr>\n",
       "    <tr>\n",
       "      <th>deprecatedAndHidden</th>\n",
       "      <td>False</td>\n",
       "    </tr>\n",
       "    <tr>\n",
       "      <th>digits</th>\n",
       "      <td>0</td>\n",
       "    </tr>\n",
       "    <tr>\n",
       "      <th>displayLocationInDecimal</th>\n",
       "      <td>False</td>\n",
       "    </tr>\n",
       "    <tr>\n",
       "      <th>encrypted</th>\n",
       "      <td>False</td>\n",
       "    </tr>\n",
       "    <tr>\n",
       "      <th>externalId</th>\n",
       "      <td>False</td>\n",
       "    </tr>\n",
       "    <tr>\n",
       "      <th>extraTypeInfo</th>\n",
       "      <td>None</td>\n",
       "    </tr>\n",
       "    <tr>\n",
       "      <th>filterable</th>\n",
       "      <td>True</td>\n",
       "    </tr>\n",
       "    <tr>\n",
       "      <th>filteredLookupInfo</th>\n",
       "      <td>None</td>\n",
       "    </tr>\n",
       "    <tr>\n",
       "      <th>formulaTreatNullNumberAsZero</th>\n",
       "      <td>False</td>\n",
       "    </tr>\n",
       "    <tr>\n",
       "      <th>groupable</th>\n",
       "      <td>True</td>\n",
       "    </tr>\n",
       "    <tr>\n",
       "      <th>highScaleNumber</th>\n",
       "      <td>False</td>\n",
       "    </tr>\n",
       "    <tr>\n",
       "      <th>htmlFormatted</th>\n",
       "      <td>False</td>\n",
       "    </tr>\n",
       "    <tr>\n",
       "      <th>idLookup</th>\n",
       "      <td>False</td>\n",
       "    </tr>\n",
       "    <tr>\n",
       "      <th>inlineHelpText</th>\n",
       "      <td>None</td>\n",
       "    </tr>\n",
       "    <tr>\n",
       "      <th>label</th>\n",
       "      <td>Unique Street Adddress</td>\n",
       "    </tr>\n",
       "    <tr>\n",
       "      <th>length</th>\n",
       "      <td>100</td>\n",
       "    </tr>\n",
       "    <tr>\n",
       "      <th>mask</th>\n",
       "      <td>None</td>\n",
       "    </tr>\n",
       "    <tr>\n",
       "      <th>maskType</th>\n",
       "      <td>None</td>\n",
       "    </tr>\n",
       "    <tr>\n",
       "      <th>name</th>\n",
       "      <td>Unique_Street_Adddress__c</td>\n",
       "    </tr>\n",
       "    <tr>\n",
       "      <th>nameField</th>\n",
       "      <td>False</td>\n",
       "    </tr>\n",
       "    <tr>\n",
       "      <th>namePointing</th>\n",
       "      <td>False</td>\n",
       "    </tr>\n",
       "    <tr>\n",
       "      <th>nillable</th>\n",
       "      <td>False</td>\n",
       "    </tr>\n",
       "    <tr>\n",
       "      <th>permissionable</th>\n",
       "      <td>False</td>\n",
       "    </tr>\n",
       "    <tr>\n",
       "      <th>picklistValues</th>\n",
       "      <td>[]</td>\n",
       "    </tr>\n",
       "    <tr>\n",
       "      <th>polymorphicForeignKey</th>\n",
       "      <td>False</td>\n",
       "    </tr>\n",
       "    <tr>\n",
       "      <th>precision</th>\n",
       "      <td>0</td>\n",
       "    </tr>\n",
       "    <tr>\n",
       "      <th>queryByDistance</th>\n",
       "      <td>False</td>\n",
       "    </tr>\n",
       "    <tr>\n",
       "      <th>referenceTargetField</th>\n",
       "      <td>None</td>\n",
       "    </tr>\n",
       "    <tr>\n",
       "      <th>referenceTo</th>\n",
       "      <td>[]</td>\n",
       "    </tr>\n",
       "    <tr>\n",
       "      <th>relationshipName</th>\n",
       "      <td>None</td>\n",
       "    </tr>\n",
       "    <tr>\n",
       "      <th>relationshipOrder</th>\n",
       "      <td>None</td>\n",
       "    </tr>\n",
       "    <tr>\n",
       "      <th>restrictedDelete</th>\n",
       "      <td>False</td>\n",
       "    </tr>\n",
       "    <tr>\n",
       "      <th>restrictedPicklist</th>\n",
       "      <td>False</td>\n",
       "    </tr>\n",
       "    <tr>\n",
       "      <th>scale</th>\n",
       "      <td>0</td>\n",
       "    </tr>\n",
       "    <tr>\n",
       "      <th>searchPrefilterable</th>\n",
       "      <td>False</td>\n",
       "    </tr>\n",
       "    <tr>\n",
       "      <th>soapType</th>\n",
       "      <td>xsd:string</td>\n",
       "    </tr>\n",
       "    <tr>\n",
       "      <th>sortable</th>\n",
       "      <td>True</td>\n",
       "    </tr>\n",
       "    <tr>\n",
       "      <th>type</th>\n",
       "      <td>string</td>\n",
       "    </tr>\n",
       "    <tr>\n",
       "      <th>unique</th>\n",
       "      <td>True</td>\n",
       "    </tr>\n",
       "    <tr>\n",
       "      <th>updateable</th>\n",
       "      <td>True</td>\n",
       "    </tr>\n",
       "    <tr>\n",
       "      <th>writeRequiresMasterRead</th>\n",
       "      <td>False</td>\n",
       "    </tr>\n",
       "  </tbody>\n",
       "</table>\n",
       "</div>"
      ],
      "text/plain": [
       "                                                     15\n",
       "aggregatable                                       True\n",
       "aiPredictionField                                 False\n",
       "autoNumber                                        False\n",
       "byteLength                                          300\n",
       "calculated                                        False\n",
       "calculatedFormula                                  None\n",
       "cascadeDelete                                     False\n",
       "caseSensitive                                     False\n",
       "compoundFieldName                                  None\n",
       "controllerName                                     None\n",
       "createable                                         True\n",
       "custom                                             True\n",
       "defaultValue                                       None\n",
       "defaultValueFormula                                None\n",
       "defaultedOnCreate                                 False\n",
       "dependentPicklist                                 False\n",
       "deprecatedAndHidden                               False\n",
       "digits                                                0\n",
       "displayLocationInDecimal                          False\n",
       "encrypted                                         False\n",
       "externalId                                        False\n",
       "extraTypeInfo                                      None\n",
       "filterable                                         True\n",
       "filteredLookupInfo                                 None\n",
       "formulaTreatNullNumberAsZero                      False\n",
       "groupable                                          True\n",
       "highScaleNumber                                   False\n",
       "htmlFormatted                                     False\n",
       "idLookup                                          False\n",
       "inlineHelpText                                     None\n",
       "label                            Unique Street Adddress\n",
       "length                                              100\n",
       "mask                                               None\n",
       "maskType                                           None\n",
       "name                          Unique_Street_Adddress__c\n",
       "nameField                                         False\n",
       "namePointing                                      False\n",
       "nillable                                          False\n",
       "permissionable                                    False\n",
       "picklistValues                                       []\n",
       "polymorphicForeignKey                             False\n",
       "precision                                             0\n",
       "queryByDistance                                   False\n",
       "referenceTargetField                               None\n",
       "referenceTo                                          []\n",
       "relationshipName                                   None\n",
       "relationshipOrder                                  None\n",
       "restrictedDelete                                  False\n",
       "restrictedPicklist                                False\n",
       "scale                                                 0\n",
       "searchPrefilterable                               False\n",
       "soapType                                     xsd:string\n",
       "sortable                                           True\n",
       "type                                             string\n",
       "unique                                             True\n",
       "updateable                                         True\n",
       "writeRequiresMasterRead                           False"
      ]
     },
     "execution_count": 39,
     "metadata": {},
     "output_type": "execute_result"
    }
   ],
   "source": [
    "property_df[property_df.name == 'Unique_Street_Adddress__c'].T"
   ]
  },
  {
   "cell_type": "code",
   "execution_count": 34,
   "id": "028c45b3-ce56-43f2-96c7-6af6eb3fca95",
   "metadata": {},
   "outputs": [
    {
     "ename": "IndexError",
     "evalue": "single positional indexer is out-of-bounds",
     "output_type": "error",
     "traceback": [
      "\u001b[0;31m---------------------------------------------------------------------------\u001b[0m",
      "\u001b[0;31mIndexError\u001b[0m                                Traceback (most recent call last)",
      "Cell \u001b[0;32mIn[34], line 1\u001b[0m\n\u001b[0;32m----> 1\u001b[0m \u001b[43mproperty_df\u001b[49m\u001b[43m[\u001b[49m\u001b[43mproperty_df\u001b[49m\u001b[38;5;241;43m.\u001b[39;49m\u001b[43mtype\u001b[49m\u001b[43m \u001b[49m\u001b[38;5;241;43m==\u001b[39;49m\u001b[43m \u001b[49m\u001b[38;5;124;43m'\u001b[39;49m\u001b[38;5;124;43mtext\u001b[39;49m\u001b[38;5;124;43m'\u001b[39;49m\u001b[43m]\u001b[49m\u001b[38;5;241;43m.\u001b[39;49m\u001b[43mpicklistValues\u001b[49m\u001b[38;5;241;43m.\u001b[39;49m\u001b[43miloc\u001b[49m\u001b[43m[\u001b[49m\u001b[38;5;241;43m0\u001b[39;49m\u001b[43m]\u001b[49m\n",
      "File \u001b[0;32m/opt/conda/lib/python3.10/site-packages/pandas/core/indexing.py:1153\u001b[0m, in \u001b[0;36m_LocationIndexer.__getitem__\u001b[0;34m(self, key)\u001b[0m\n\u001b[1;32m   1150\u001b[0m axis \u001b[38;5;241m=\u001b[39m \u001b[38;5;28mself\u001b[39m\u001b[38;5;241m.\u001b[39maxis \u001b[38;5;129;01mor\u001b[39;00m \u001b[38;5;241m0\u001b[39m\n\u001b[1;32m   1152\u001b[0m maybe_callable \u001b[38;5;241m=\u001b[39m com\u001b[38;5;241m.\u001b[39mapply_if_callable(key, \u001b[38;5;28mself\u001b[39m\u001b[38;5;241m.\u001b[39mobj)\n\u001b[0;32m-> 1153\u001b[0m \u001b[38;5;28;01mreturn\u001b[39;00m \u001b[38;5;28;43mself\u001b[39;49m\u001b[38;5;241;43m.\u001b[39;49m\u001b[43m_getitem_axis\u001b[49m\u001b[43m(\u001b[49m\u001b[43mmaybe_callable\u001b[49m\u001b[43m,\u001b[49m\u001b[43m \u001b[49m\u001b[43maxis\u001b[49m\u001b[38;5;241;43m=\u001b[39;49m\u001b[43maxis\u001b[49m\u001b[43m)\u001b[49m\n",
      "File \u001b[0;32m/opt/conda/lib/python3.10/site-packages/pandas/core/indexing.py:1714\u001b[0m, in \u001b[0;36m_iLocIndexer._getitem_axis\u001b[0;34m(self, key, axis)\u001b[0m\n\u001b[1;32m   1711\u001b[0m     \u001b[38;5;28;01mraise\u001b[39;00m \u001b[38;5;167;01mTypeError\u001b[39;00m(\u001b[38;5;124m\"\u001b[39m\u001b[38;5;124mCannot index by location index with a non-integer key\u001b[39m\u001b[38;5;124m\"\u001b[39m)\n\u001b[1;32m   1713\u001b[0m \u001b[38;5;66;03m# validate the location\u001b[39;00m\n\u001b[0;32m-> 1714\u001b[0m \u001b[38;5;28;43mself\u001b[39;49m\u001b[38;5;241;43m.\u001b[39;49m\u001b[43m_validate_integer\u001b[49m\u001b[43m(\u001b[49m\u001b[43mkey\u001b[49m\u001b[43m,\u001b[49m\u001b[43m \u001b[49m\u001b[43maxis\u001b[49m\u001b[43m)\u001b[49m\n\u001b[1;32m   1716\u001b[0m \u001b[38;5;28;01mreturn\u001b[39;00m \u001b[38;5;28mself\u001b[39m\u001b[38;5;241m.\u001b[39mobj\u001b[38;5;241m.\u001b[39m_ixs(key, axis\u001b[38;5;241m=\u001b[39maxis)\n",
      "File \u001b[0;32m/opt/conda/lib/python3.10/site-packages/pandas/core/indexing.py:1647\u001b[0m, in \u001b[0;36m_iLocIndexer._validate_integer\u001b[0;34m(self, key, axis)\u001b[0m\n\u001b[1;32m   1645\u001b[0m len_axis \u001b[38;5;241m=\u001b[39m \u001b[38;5;28mlen\u001b[39m(\u001b[38;5;28mself\u001b[39m\u001b[38;5;241m.\u001b[39mobj\u001b[38;5;241m.\u001b[39m_get_axis(axis))\n\u001b[1;32m   1646\u001b[0m \u001b[38;5;28;01mif\u001b[39;00m key \u001b[38;5;241m>\u001b[39m\u001b[38;5;241m=\u001b[39m len_axis \u001b[38;5;129;01mor\u001b[39;00m key \u001b[38;5;241m<\u001b[39m \u001b[38;5;241m-\u001b[39mlen_axis:\n\u001b[0;32m-> 1647\u001b[0m     \u001b[38;5;28;01mraise\u001b[39;00m \u001b[38;5;167;01mIndexError\u001b[39;00m(\u001b[38;5;124m\"\u001b[39m\u001b[38;5;124msingle positional indexer is out-of-bounds\u001b[39m\u001b[38;5;124m\"\u001b[39m)\n",
      "\u001b[0;31mIndexError\u001b[0m: single positional indexer is out-of-bounds"
     ]
    }
   ],
   "source": [
    "property_df[property_df.type == 'text'].picklistValues.iloc[0]"
   ]
  },
  {
   "cell_type": "markdown",
   "id": "2fa91c2e-600d-4008-9daf-8b00932156a8",
   "metadata": {},
   "source": [
    "methods - get fields for object, get properties for field\n",
    "\n",
    "for each object\n",
    "check for expected columns\n",
    "\n",
    "\n",
    "for each field\n",
    "if picklist, check that all values are valid\n",
    "if not nullable, check that values are not null\n",
    "if unique, check that values are unique\n",
    "\n",
    "\n",
    "if it's \n",
    "\n",
    "all we're doing is creating a gx context. we'll figure out how to use multiple contexts in the future. for now, we can namespace them under contexts/object_name\n",
    "\n"
   ]
  }
 ],
 "metadata": {
  "kernelspec": {
   "display_name": "Python 3 (ipykernel)",
   "language": "python",
   "name": "python3"
  },
  "language_info": {
   "codemirror_mode": {
    "name": "ipython",
    "version": 3
   },
   "file_extension": ".py",
   "mimetype": "text/x-python",
   "name": "python",
   "nbconvert_exporter": "python",
   "pygments_lexer": "ipython3",
   "version": "3.10.11"
  }
 },
 "nbformat": 4,
 "nbformat_minor": 5
}
