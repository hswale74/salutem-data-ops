{
 "cells": [
  {
   "cell_type": "code",
   "execution_count": 17,
   "id": "040ddb01-cf45-43dd-80ed-70677a2400fa",
   "metadata": {},
   "outputs": [],
   "source": [
    "import pandas as pd\n",
    "from ruamel import yaml\n",
    "from simple_salesforce import Salesforce\n",
    "import great_expectations as gx\n",
    "from great_expectations.core.batch import RuntimeBatchRequest\n",
    "import os\n",
    "\n",
    "sf_client = Salesforce(\n",
    "    username=os.getenv(\"SF_USERNAME\"),\n",
    "    password=os.getenv(\"SF_PASSWORD\"),\n",
    "    security_token=os.getenv(\"SF_TOKEN\")\n",
    ")"
   ]
  },
  {
   "cell_type": "markdown",
   "id": "c93a7b39-764c-41fb-8001-c19e17e73b83",
   "metadata": {},
   "source": [
    "# Configure Context"
   ]
  },
  {
   "cell_type": "code",
   "execution_count": 18,
   "id": "0c7b7535-4b3b-489a-9132-7ccad54b03e9",
   "metadata": {},
   "outputs": [],
   "source": [
    "context = gx.data_context.FileDataContext.create(\"/home/jovyan/gx_suites/poc2\")"
   ]
  },
  {
   "cell_type": "code",
   "execution_count": 19,
   "id": "4b1bda62-3712-41e9-8e2d-3aaf663ac72f",
   "metadata": {},
   "outputs": [],
   "source": [
    "# datasource_config = {\n",
    "#     \"name\": \"example_datasource\",\n",
    "#     \"class_name\": \"Datasource\",\n",
    "#     \"module_name\": \"great_expectations.datasource\",\n",
    "#     \"execution_engine\": {\n",
    "#         \"module_name\": \"great_expectations.execution_engine\",\n",
    "#         \"class_name\": \"PandasExecutionEngine\",\n",
    "#     },\n",
    "#     \"data_connectors\": {\n",
    "#         \"default_runtime_data_connector_name\": {\n",
    "#             \"class_name\": \"RuntimeDataConnector\",\n",
    "#             \"module_name\": \"great_expectations.datasource.data_connector\",\n",
    "#             \"batch_identifiers\": [\"OwnerId\"],\n",
    "#         },\n",
    "#     },\n",
    "# }\n",
    "\n",
    "# context.add_datasource(**datasource_config)"
   ]
  },
  {
   "cell_type": "markdown",
   "id": "4ad7a224-2210-4e0a-aa50-2c256e323126",
   "metadata": {},
   "source": [
    "# Pull data"
   ]
  },
  {
   "cell_type": "code",
   "execution_count": 20,
   "id": "8e29dbc5-5133-4e9a-925f-ac980f3b0efb",
   "metadata": {},
   "outputs": [],
   "source": [
    "resp = sf_client.query(\n",
    "    \"\"\"\n",
    "    SELECT \n",
    "    Id,\n",
    "    Agent_ID__c,\n",
    "    CreatedById,\n",
    "    Current_Status__c,\n",
    "    LastModifiedById,\n",
    "    OwnerId,\n",
    "    Price__c,\n",
    "    Name,\n",
    "    Street_Address__c,\n",
    "    Unique_Street_Adddress__c\n",
    "    FROM Property__c\n",
    "    \"\"\"\n",
    ")\n"
   ]
  },
  {
   "cell_type": "code",
   "execution_count": 21,
   "id": "d026faa1-efd4-4ad9-a7c1-2fa527c3314f",
   "metadata": {},
   "outputs": [],
   "source": [
    "df = pd.DataFrame.from_records(resp['records'])"
   ]
  },
  {
   "cell_type": "code",
   "execution_count": 22,
   "id": "713d791e-ad1b-42fc-b1de-1615c8e9337d",
   "metadata": {},
   "outputs": [
    {
     "data": {
      "text/html": [
       "<div>\n",
       "<style scoped>\n",
       "    .dataframe tbody tr th:only-of-type {\n",
       "        vertical-align: middle;\n",
       "    }\n",
       "\n",
       "    .dataframe tbody tr th {\n",
       "        vertical-align: top;\n",
       "    }\n",
       "\n",
       "    .dataframe thead th {\n",
       "        text-align: right;\n",
       "    }\n",
       "</style>\n",
       "<table border=\"1\" class=\"dataframe\">\n",
       "  <thead>\n",
       "    <tr style=\"text-align: right;\">\n",
       "      <th></th>\n",
       "      <th>attributes</th>\n",
       "      <th>Id</th>\n",
       "      <th>Agent_ID__c</th>\n",
       "      <th>CreatedById</th>\n",
       "      <th>Current_Status__c</th>\n",
       "      <th>LastModifiedById</th>\n",
       "      <th>OwnerId</th>\n",
       "      <th>Price__c</th>\n",
       "      <th>Name</th>\n",
       "      <th>Street_Address__c</th>\n",
       "      <th>Unique_Street_Adddress__c</th>\n",
       "    </tr>\n",
       "  </thead>\n",
       "  <tbody>\n",
       "    <tr>\n",
       "      <th>0</th>\n",
       "      <td>{'type': 'Property__c', 'url': '/services/data...</td>\n",
       "      <td>a00Hp00001DLSiMIAX</td>\n",
       "      <td>None</td>\n",
       "      <td>005Hp00000h5ERFIA2</td>\n",
       "      <td>None</td>\n",
       "      <td>005Hp00000h5ERFIA2</td>\n",
       "      <td>005Hp00000h5ERFIA2</td>\n",
       "      <td>500000.0</td>\n",
       "      <td>123 Main St</td>\n",
       "      <td>None</td>\n",
       "      <td>None</td>\n",
       "    </tr>\n",
       "    <tr>\n",
       "      <th>1</th>\n",
       "      <td>{'type': 'Property__c', 'url': '/services/data...</td>\n",
       "      <td>a00Hp00001DQk7KIAT</td>\n",
       "      <td>a05Hp000014GDkCIAW</td>\n",
       "      <td>005Hp00000h5ERFIA2</td>\n",
       "      <td>None</td>\n",
       "      <td>005Hp00000h5ERFIA2</td>\n",
       "      <td>005Hp00000h5ERFIA2</td>\n",
       "      <td>1000000.0</td>\n",
       "      <td>1600 Penn Ave</td>\n",
       "      <td>1600 Pennsylvania Avenue</td>\n",
       "      <td>None</td>\n",
       "    </tr>\n",
       "    <tr>\n",
       "      <th>2</th>\n",
       "      <td>{'type': 'Property__c', 'url': '/services/data...</td>\n",
       "      <td>a00Hp00001DSMyZIAX</td>\n",
       "      <td>a05Hp000014GIbBIAW</td>\n",
       "      <td>005Hp00000h5ERFIA2</td>\n",
       "      <td>None</td>\n",
       "      <td>005Hp00000h5ERFIA2</td>\n",
       "      <td>005Hp00000h5ERFIA2</td>\n",
       "      <td>499000.0</td>\n",
       "      <td>123 Main St</td>\n",
       "      <td>123 Main St</td>\n",
       "      <td>None</td>\n",
       "    </tr>\n",
       "    <tr>\n",
       "      <th>3</th>\n",
       "      <td>{'type': 'Property__c', 'url': '/services/data...</td>\n",
       "      <td>a00Hp00001DSP0GIAX</td>\n",
       "      <td>a05Hp000014GDkCIAW</td>\n",
       "      <td>005Hp00000h5ERFIA2</td>\n",
       "      <td>Listed</td>\n",
       "      <td>005Hp00000h5ERFIA2</td>\n",
       "      <td>005Hp00000h5ERFIA2</td>\n",
       "      <td>45000.0</td>\n",
       "      <td>Another property again</td>\n",
       "      <td>978 Keefer Rd</td>\n",
       "      <td>978 Keefer Rd</td>\n",
       "    </tr>\n",
       "    <tr>\n",
       "      <th>4</th>\n",
       "      <td>{'type': 'Property__c', 'url': '/services/data...</td>\n",
       "      <td>a00Hp00001DSP06IAH</td>\n",
       "      <td>a05Hp000014GDkCIAW</td>\n",
       "      <td>005Hp00000h5ERFIA2</td>\n",
       "      <td>Listed</td>\n",
       "      <td>005Hp00000h5ERFIA2</td>\n",
       "      <td>005Hp00000h5ERFIA2</td>\n",
       "      <td>50000.0</td>\n",
       "      <td>Another property</td>\n",
       "      <td>40 Stefanyk Rd</td>\n",
       "      <td>40 Stefanyk Rd</td>\n",
       "    </tr>\n",
       "  </tbody>\n",
       "</table>\n",
       "</div>"
      ],
      "text/plain": [
       "                                          attributes                  Id  \\\n",
       "0  {'type': 'Property__c', 'url': '/services/data...  a00Hp00001DLSiMIAX   \n",
       "1  {'type': 'Property__c', 'url': '/services/data...  a00Hp00001DQk7KIAT   \n",
       "2  {'type': 'Property__c', 'url': '/services/data...  a00Hp00001DSMyZIAX   \n",
       "3  {'type': 'Property__c', 'url': '/services/data...  a00Hp00001DSP0GIAX   \n",
       "4  {'type': 'Property__c', 'url': '/services/data...  a00Hp00001DSP06IAH   \n",
       "\n",
       "          Agent_ID__c         CreatedById Current_Status__c  \\\n",
       "0                None  005Hp00000h5ERFIA2              None   \n",
       "1  a05Hp000014GDkCIAW  005Hp00000h5ERFIA2              None   \n",
       "2  a05Hp000014GIbBIAW  005Hp00000h5ERFIA2              None   \n",
       "3  a05Hp000014GDkCIAW  005Hp00000h5ERFIA2            Listed   \n",
       "4  a05Hp000014GDkCIAW  005Hp00000h5ERFIA2            Listed   \n",
       "\n",
       "     LastModifiedById             OwnerId   Price__c                    Name  \\\n",
       "0  005Hp00000h5ERFIA2  005Hp00000h5ERFIA2   500000.0             123 Main St   \n",
       "1  005Hp00000h5ERFIA2  005Hp00000h5ERFIA2  1000000.0           1600 Penn Ave   \n",
       "2  005Hp00000h5ERFIA2  005Hp00000h5ERFIA2   499000.0             123 Main St   \n",
       "3  005Hp00000h5ERFIA2  005Hp00000h5ERFIA2    45000.0  Another property again   \n",
       "4  005Hp00000h5ERFIA2  005Hp00000h5ERFIA2    50000.0        Another property   \n",
       "\n",
       "          Street_Address__c Unique_Street_Adddress__c  \n",
       "0                      None                      None  \n",
       "1  1600 Pennsylvania Avenue                      None  \n",
       "2               123 Main St                      None  \n",
       "3             978 Keefer Rd             978 Keefer Rd  \n",
       "4            40 Stefanyk Rd            40 Stefanyk Rd  "
      ]
     },
     "execution_count": 22,
     "metadata": {},
     "output_type": "execute_result"
    }
   ],
   "source": [
    "df"
   ]
  },
  {
   "cell_type": "code",
   "execution_count": 34,
   "id": "0437f999-604f-4d32-bf70-cad3826f3dcd",
   "metadata": {},
   "outputs": [],
   "source": [
    "# checkpoint_config = {\n",
    "#     \"name\": \"my_checkpoint\",\n",
    "#     \"config_version\": 1,\n",
    "#     \"class_name\": \"SimpleCheckpoint\",\n",
    "#     \"validations\": [\n",
    "#         {\n",
    "#             \"batch_request\": {\n",
    "#                 \"datasource_name\": \"example_datasource\",\n",
    "#                 \"data_connector_name\": \"default_runtime_data_connector_name\",\n",
    "#                 \"data_asset_name\": \"Property__c\",\n",
    "#             },\n",
    "#             \"expectation_suite_name\": \"Property__c\",\n",
    "#         }\n",
    "#     ],\n",
    "# }\n",
    "# checkpoint = context.add_checkpoint(**checkpoint_config)"
   ]
  },
  {
   "cell_type": "code",
   "execution_count": 30,
   "id": "39c09822-31c9-4e2b-9079-a53a51975ab5",
   "metadata": {},
   "outputs": [
    {
     "data": {
      "application/vnd.jupyter.widget-view+json": {
       "model_id": "12d7b4ae12c543a7bbef2c5c92983f7f",
       "version_major": 2,
       "version_minor": 0
      },
      "text/plain": [
       "Calculating Metrics:   0%|          | 0/75 [00:00<?, ?it/s]"
      ]
     },
     "metadata": {},
     "output_type": "display_data"
    }
   ],
   "source": [
    "results = context.run_checkpoint(\n",
    "    checkpoint_name=\"my_checkpoint\",\n",
    "    batch_request={\n",
    "        \"runtime_parameters\": {\"batch_data\": df},\n",
    "        \"batch_identifiers\": {\n",
    "            \"run_id\": \"run1\"\n",
    "        },\n",
    "    },\n",
    "    run_name=\"run1\"\n",
    ")"
   ]
  },
  {
   "cell_type": "code",
   "execution_count": 31,
   "id": "764d8aee-0b75-419a-94cf-32aa92f571a1",
   "metadata": {},
   "outputs": [
    {
     "data": {
      "text/plain": [
       "{'local_site': 'file:///home/jovyan/gx_suites/poc2/gx/uncommitted/data_docs/local_site/index.html'}"
      ]
     },
     "execution_count": 31,
     "metadata": {},
     "output_type": "execute_result"
    }
   ],
   "source": [
    "context.build_data_docs()"
   ]
  },
  {
   "cell_type": "code",
   "execution_count": null,
   "id": "4b4e5fac-d8c7-4aee-a330-0d6959fbae0c",
   "metadata": {},
   "outputs": [],
   "source": []
  }
 ],
 "metadata": {
  "kernelspec": {
   "display_name": "Python 3 (ipykernel)",
   "language": "python",
   "name": "python3"
  },
  "language_info": {
   "codemirror_mode": {
    "name": "ipython",
    "version": 3
   },
   "file_extension": ".py",
   "mimetype": "text/x-python",
   "name": "python",
   "nbconvert_exporter": "python",
   "pygments_lexer": "ipython3",
   "version": "3.10.11"
  }
 },
 "nbformat": 4,
 "nbformat_minor": 5
}
