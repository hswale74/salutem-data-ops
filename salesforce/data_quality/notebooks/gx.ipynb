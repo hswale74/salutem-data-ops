{
 "cells": [
  {
   "cell_type": "code",
   "execution_count": 1,
   "id": "33c19eed-afd4-4587-ac74-854455b3b303",
   "metadata": {},
   "outputs": [],
   "source": [
    "from simple_salesforce import Salesforce\n",
    "\n",
    "import logging\n",
    "import os\n",
    "import pandas as pd\n",
    "\n",
    "logging.basicConfig(level=logging.INFO)\n",
    "\n",
    "\n",
    "sf_client = Salesforce(\n",
    "    username=os.getenv(\"SF_USERNAME\"),\n",
    "    password=os.getenv(\"SF_PASSWORD\"),\n",
    "    security_token=os.getenv(\"SF_TOKEN\")\n",
    ")\n",
    "\n",
    "resp = sf_client.describe()"
   ]
  },
  {
   "cell_type": "code",
   "execution_count": 2,
   "id": "f7181950-b73d-4977-9960-a36382afc3f6",
   "metadata": {},
   "outputs": [
    {
     "name": "stderr",
     "output_type": "stream",
     "text": [
      "INFO:great_expectations.data_context.data_context.file_data_context:FileDataContext loading fluent config\n",
      "INFO:great_expectations.datasource.fluent.config:Loading 'datasources' ->\n",
      "[]\n"
     ]
    }
   ],
   "source": [
    "import great_expectations as gx\n",
    "\n",
    "context = gx.data_context.FileDataContext.create(\"/home/jovyan/notebooks\")"
   ]
  },
  {
   "cell_type": "code",
   "execution_count": 3,
   "id": "c156f216-7abe-47c8-974c-bf30f3ec0276",
   "metadata": {},
   "outputs": [],
   "source": [
    "suite = context.add_expectation_suite(expectation_suite_name=\"my_suite_1\")"
   ]
  },
  {
   "cell_type": "code",
   "execution_count": 4,
   "id": "a4e961a2-6c39-4a88-bd3f-b3ee2785ca68",
   "metadata": {},
   "outputs": [
    {
     "data": {
      "text/plain": [
       "{\"expectation_type\": \"expect_table_columns_to_match_ordered_list\", \"kwargs\": {\"column_list\": [\"account_id\", \"user_id\", \"transaction_id\", \"transaction_type\", \"transaction_amt_usd\"]}, \"meta\": {\"notes\": {\"format\": \"markdown\", \"content\": \"Some clever comment about this expectation. **Markdown** `Supported`\"}}}"
      ]
     },
     "execution_count": 4,
     "metadata": {},
     "output_type": "execute_result"
    }
   ],
   "source": [
    "from great_expectations.core.expectation_configuration import ExpectationConfiguration\n",
    "\n",
    "# Create an Expectation\n",
    "expectation_configuration_1 = ExpectationConfiguration(\n",
    "    # Name of expectation type being added\n",
    "    expectation_type=\"expect_table_columns_to_match_ordered_list\",\n",
    "    # These are the arguments of the expectation\n",
    "    # The keys allowed in the dictionary are Parameters and\n",
    "    # Keyword Arguments of this Expectation Type\n",
    "    kwargs={\n",
    "        \"column_list\": [\n",
    "            \"account_id\",\n",
    "            \"user_id\",\n",
    "            \"transaction_id\",\n",
    "            \"transaction_type\",\n",
    "            \"transaction_amt_usd\",\n",
    "        ]\n",
    "    },\n",
    "    # This is how you can optionally add a comment about this expectation.\n",
    "    # It will be rendered in Data Docs.\n",
    "    # See this guide for details:\n",
    "    # `How to add comments to Expectations and display them in Data Docs`.\n",
    "    meta={\n",
    "        \"notes\": {\n",
    "            \"format\": \"markdown\",\n",
    "            \"content\": \"Some clever comment about this expectation. **Markdown** `Supported`\",\n",
    "        }\n",
    "    },\n",
    ")\n",
    "# Add the Expectation to the suite\n",
    "suite.add_expectation(expectation_configuration=expectation_configuration_1)"
   ]
  },
  {
   "cell_type": "code",
   "execution_count": null,
   "id": "efbc1022-ec4b-4913-b0b8-2bc1ee162c31",
   "metadata": {},
   "outputs": [],
   "source": []
  }
 ],
 "metadata": {
  "kernelspec": {
   "display_name": "Python 3 (ipykernel)",
   "language": "python",
   "name": "python3"
  },
  "language_info": {
   "codemirror_mode": {
    "name": "ipython",
    "version": 3
   },
   "file_extension": ".py",
   "mimetype": "text/x-python",
   "name": "python",
   "nbconvert_exporter": "python",
   "pygments_lexer": "ipython3",
   "version": "3.10.11"
  }
 },
 "nbformat": 4,
 "nbformat_minor": 5
}
