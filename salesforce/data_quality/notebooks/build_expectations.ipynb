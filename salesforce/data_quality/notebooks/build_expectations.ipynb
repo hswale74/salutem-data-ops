{
 "cells": [
  {
   "cell_type": "code",
   "execution_count": 3,
   "id": "d7fd6327-c6c4-4d96-a94f-577e73aa2bcc",
   "metadata": {},
   "outputs": [
    {
     "name": "stderr",
     "output_type": "stream",
     "text": [
      "WARNING:py.warnings:/opt/conda/lib/python3.10/site-packages/great_expectations/data_context/data_context/serializable_data_context.py:225: UserWarning: Warning. An existing `great_expectations.yml` was found here: /home/jovyan/gx_suites/poc/gx.\n",
      "    - No action was taken.\n",
      "  warnings.warn(message)\n",
      "\n",
      "WARNING:py.warnings:/opt/conda/lib/python3.10/site-packages/great_expectations/data_context/data_context/serializable_data_context.py:235: UserWarning: Warning. An existing `config_variables.yml` was found here: /home/jovyan/gx_suites/poc/gx/uncommitted.\n",
      "    - No action was taken.\n",
      "  warnings.warn(message)\n",
      "\n",
      "INFO:great_expectations.data_context.data_context.file_data_context:FileDataContext loading fluent config\n",
      "INFO:great_expectations.datasource.fluent.config:Loading 'datasources' ->\n",
      "[]\n"
     ]
    }
   ],
   "source": [
    "import great_expectations as gx\n",
    "import simple_salesforce\n",
    "import pandas as pd\n",
    "import logging\n",
    "logging.basicConfig(level=logging.INFO)\n",
    "\n",
    "\n",
    "sf_client = Salesforce(\n",
    "    username=os.getenv(\"SF_USERNAME\"),\n",
    "    password=os.getenv(\"SF_PASSWORD\"),\n",
    "    security_token=os.getenv(\"SF_TOKEN\")\n",
    ")\n",
    "\n",
    "def get_context_from_azure() -> yaml context:\n",
    "\n",
    "context = gx.data_context.FileDataContext.create(\"/home/jovyan/gx_suites/poc\")"
   ]
  },
  {
   "cell_type": "code",
   "execution_count": 4,
   "id": "89d0a71f-b14d-4abc-b6d8-ff2b6c67a8b1",
   "metadata": {},
   "outputs": [],
   "source": [
    "ASSET_NAME = 'Property__c'"
   ]
  },
  {
   "cell_type": "code",
   "execution_count": 5,
   "id": "7eecd4bc-c949-4895-be91-65af0df00e0e",
   "metadata": {},
   "outputs": [],
   "source": [
    "class GXContextFactory(object):\n",
    "\n",
    "    def __init__(self, sf_client, gx_context, object_name):\n",
    "        self.sf_client = sf_client\n",
    "        self.gx_context = gx_context\n",
    "        \n",
    "        try:\n",
    "            self.gx_suite = self.gx_context.add_expectation_suite(expectation_suite_name=object_name)\n",
    "        except DataContextError:\n",
    "            self.gx_suite = self.gx_context.get_expectation_suite(expectation_suite_name=object_name)\n",
    "        \n",
    "        object_metadata = getattr(sf_client, object_name).describe()\n",
    "        \n",
    "        for field_metadata in object_metadata['fields']:\n",
    "            self._generate_expectations_for_field(field_metadata)\n",
    "\n",
    "        self.gx_context.add_or_update_expectation_suite(expectation_suite=self.gx_suite)\n",
    "\n",
    "    def _generate_expectations_for_field(self, field_metadata):\n",
    "        if not field_metadata['nillable']:\n",
    "            self._generate_non_null_expectation(field_metadata['name'])\n",
    "\n",
    "        if field_metadata['unique']:\n",
    "            self._generate_field_uniqueness_expectation(field_metadata['name'])\n",
    "            \n",
    "        if field_metadata['type'].lower() == 'picklist':\n",
    "            value_set = [\n",
    "                x['value'] \n",
    "                for x in field_metadata['picklistValues']\n",
    "                if x['active']\n",
    "            ]\n",
    "            \n",
    "            self._generate_picklist_expectations(\n",
    "                field_metadata['name'],\n",
    "                value_set\n",
    "            )\n",
    "\n",
    "    def _generate_picklist_expectations(self, field_name, value_set):\n",
    "        expectation_configuration = ExpectationConfiguration(\n",
    "            expectation_type=\"expect_column_values_to_be_in_set\",\n",
    "            kwargs={\n",
    "                \"column\": field_name,\n",
    "                \"value_set\": value_set\n",
    "            },\n",
    "            meta={\n",
    "                \"notes\": {\n",
    "                    \"format\": \"markdown\",\n",
    "                    \"content\": \"Some clever comment about this expectation. **Markdown** `Supported`\",\n",
    "                }\n",
    "            },\n",
    "        )\n",
    "\n",
    "        self.gx_suite.add_expectation(expectation_configuration=expectation_configuration)\n",
    "\n",
    "    def _generate_non_null_expectation(self, field_name):\n",
    "        expectation_configuration = ExpectationConfiguration(\n",
    "            expectation_type=\"expect_column_values_to_not_be_null\",\n",
    "            kwargs={\n",
    "                \"column\": field_name,\n",
    "            },\n",
    "            meta={\n",
    "                \"notes\": {\n",
    "                    \"format\": \"markdown\",\n",
    "                    \"content\": \"Some clever comment about this expectation. **Markdown** `Supported`\",\n",
    "                }\n",
    "            },\n",
    "        )\n",
    "\n",
    "        self.gx_suite.add_expectation(expectation_configuration=expectation_configuration)\n",
    "\n",
    "    def _generate_field_uniqueness_expectation(self, field_name):\n",
    "        expectation_configuration = ExpectationConfiguration(\n",
    "            expectation_type=\"expect_column_values_to_be_unique\",\n",
    "            kwargs={\n",
    "                \"column\": field_name,\n",
    "            },\n",
    "            meta={\n",
    "                \"notes\": {\n",
    "                    \"format\": \"markdown\",\n",
    "                    \"content\": \"Some clever comment about this expectation. **Markdown** `Supported`\",\n",
    "                }\n",
    "            },\n",
    "        )\n",
    "\n",
    "        self.gx_suite.add_expectation(expectation_configuration=expectation_configuration)      "
   ]
  },
  {
   "cell_type": "code",
   "execution_count": 6,
   "id": "98ca0eba-a4a6-4d4a-944c-afa38dd68da3",
   "metadata": {},
   "outputs": [],
   "source": [
    "factory = GXContextFactory(sf_client, gx_context, 'Property__c')"
   ]
  },
  {
   "cell_type": "code",
   "execution_count": 1,
   "id": "9f815ac4-5125-4c8c-88dc-49e578503721",
   "metadata": {},
   "outputs": [],
   "source": []
  },
  {
   "cell_type": "code",
   "execution_count": null,
   "id": "b7d36b45-2aee-47ca-9ff1-97dc725066b1",
   "metadata": {},
   "outputs": [],
   "source": []
  }
 ],
 "metadata": {
  "kernelspec": {
   "display_name": "Python 3 (ipykernel)",
   "language": "python",
   "name": "python3"
  },
  "language_info": {
   "codemirror_mode": {
    "name": "ipython",
    "version": 3
   },
   "file_extension": ".py",
   "mimetype": "text/x-python",
   "name": "python",
   "nbconvert_exporter": "python",
   "pygments_lexer": "ipython3",
   "version": "3.10.11"
  }
 },
 "nbformat": 4,
 "nbformat_minor": 5
}
